{
  "nbformat": 4,
  "nbformat_minor": 0,
  "metadata": {
    "colab": {
      "provenance": []
    },
    "kernelspec": {
      "name": "python3",
      "display_name": "Python 3"
    },
    "language_info": {
      "name": "python"
    }
  },
  "cells": [
    {
      "cell_type": "code",
      "execution_count": 8,
      "metadata": {
        "colab": {
          "base_uri": "https://localhost:8080/"
        },
        "id": "z5NZwSlpzX-6",
        "outputId": "3b65e2f5-5dd5-428f-aabe-6ade02a8e7a0"
      },
      "outputs": [
        {
          "output_type": "stream",
          "name": "stdout",
          "text": [
            "MST: {0: [2, 7], 7: [1, 4, 6], 4: [3, 5]}\n",
            "Длина mst: 58.0\n"
          ]
        }
      ],
      "source": [
        "import numpy as np\n",
        "import random\n",
        "#Алгоритм Прима\n",
        "\n",
        "\n",
        "graph = [[0, 11, 7, 0, 0, 20, 15, 10],\n",
        "         [11, 0, 0, 0, 0, 0, 0, 3],\n",
        "         [7, 0, 0, 0, 0, 0, 0, 0],\n",
        "         [0, 0, 0, 0, 9, 0, 0, 0],\n",
        "         [0, 0, 0, 9, 0, 10, 12, 8],\n",
        "         [20, 0, 0, 0, 10, 0, 0, 0],\n",
        "         [15, 0, 0, 0, 12, 0, 0, 11],\n",
        "         [10, 3, 0, 0, 8, 0, 11, 0]]\n",
        "d = np.array([]) #Древесные вершины\n",
        "nd = np.array([]) #Недревесные вершины\n",
        "#n = random.randint(0, len(graph)-1) #Выбор случайной вершины\n",
        "n = 0\n",
        "for i in range(len(graph)):\n",
        "    if i != n:\n",
        "        nd = np.append(nd, int(i))\n",
        "d = np.append(d, n)\n",
        "le = len(graph[0])\n",
        "dist = np.ones((le, le)) * 1000\n",
        "gr = {}\n",
        "min_global_r = np.array([])\n",
        "min_global_index_r = np.array([0, 0])\n",
        "mst = 0\n",
        "while(len(nd != 0)):\n",
        "    min_global_r = np.array([])\n",
        "    min_global_index_r = np.array([0, 0])\n",
        "    for i in d:\n",
        "        i = int(i)\n",
        "        for j in range(len(graph[i])):\n",
        "            if graph[i][j] != 0:\n",
        "                dist[i][j] = graph[i][j]  # Вывод связанных вершин'\n",
        "        while (True):\n",
        "            min_r = min(dist[i])  # Минимальное ребро\n",
        "            index_min_r = int(np.where(dist[i] == min_r)[0][0])  # Какой узел связан с наименьшей связью\n",
        "            if min_r == 1000:\n",
        "                break\n",
        "            elif index_min_r not in d:  # Если узел не входит в дерево\n",
        "                min_global_r = np.append(min_global_r, min_r)  # Добавляем узел в значения всех минимальных\n",
        "                a = np.array([i, index_min_r])\n",
        "                min_global_index_r = np.vstack((min_global_index_r, a))  # Добавляем номер узла\n",
        "                break\n",
        "            else:\n",
        "                dist[i][index_min_r] = 1000\n",
        "    min_g = min(min_global_r) #Минимальное значение из всех\n",
        "    mst += min_g\n",
        "    index_g = int(np.where(min_global_r == min_g)[0][0])+1 #Индекс минимального значения из всех\n",
        "    coord = min_global_index_r[index_g]\n",
        "    if coord[0] not in gr:\n",
        "        gr[coord[0]] = []\n",
        "    gr[coord[0]].append(coord[1])  # Добавляем ребро\n",
        "    d = np.append(d, coord[1])  # Добавляем в дерево\n",
        "    nd = np.delete(nd, np.argwhere(nd == coord[1]))# Удаляем из недревесных\n",
        "\n",
        "print('MST:', gr)\n",
        "print('Длина mst:', mst)\n"
      ]
    }
  ]
}