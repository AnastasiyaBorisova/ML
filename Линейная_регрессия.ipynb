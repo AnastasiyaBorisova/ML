{
  "nbformat": 4,
  "nbformat_minor": 0,
  "metadata": {
    "colab": {
      "provenance": []
    },
    "kernelspec": {
      "name": "python3",
      "display_name": "Python 3"
    },
    "language_info": {
      "name": "python"
    }
  },
  "cells": [
    {
      "cell_type": "code",
      "execution_count": 7,
      "metadata": {
        "colab": {
          "base_uri": "https://localhost:8080/",
          "height": 604
        },
        "id": "z5NZwSlpzX-6",
        "outputId": "20c821ed-78ab-422e-9d8e-98363b3b9040"
      },
      "outputs": [
        {
          "output_type": "stream",
          "name": "stdout",
          "text": [
            "b0: 0.02882261736022052\n",
            "b1: 1.3651298487714938\n",
            "Среднеквадратичная ошибка: 86.11244999999997\n",
            "Стандартная ошибка: 9.3\n",
            "Среднестатистическая ошибка: 15.3\n",
            "Квадратичная сумма: 2106.6772099999994\n",
            "Регрессионная сумма: 1388.57669\n",
            "Ошибочная сумма: 881.1244999999997\n",
            "Коэффициент детерминации: 0.6591\n",
            "Коэффициент корреляции: 0.7642\n"
          ]
        },
        {
          "output_type": "display_data",
          "data": {
            "text/plain": [
              "<Figure size 640x480 with 1 Axes>"
            ],
            "image/png": "[encoded data removed]"
          },
          "metadata": {}
        }
      ],
      "source": [
        "import copy\n",
        "import math\n",
        "from matplotlib import pyplot as plt\n",
        "import numpy as np\n",
        "\n",
        "\n",
        "data = [[31.5,31.7],\n",
        "        [53.42,68.7],\n",
        "        [61.5,62.56],\n",
        "        [47.47,71.5],\n",
        "        [59.8,87.2],\n",
        "        [55.1,78.2],\n",
        "        [52.2,79.6],\n",
        "        [39.29,59.17],\n",
        "        [48.1,75.3],\n",
        "        [52.5,71.3]]\n",
        "x = np.ones(10)\n",
        "y = np.ones(10)\n",
        "for i in range(len(data)):\n",
        "    x[i] = data[i][0]\n",
        "    y[i] = data[i][1]\n",
        "\n",
        "\n",
        "b0 = 0 #Коэффициент, определяющий точку пересечения линии с осью y\n",
        "b1 = 0#Величина, на которую изменяется значение выходной переменной y при изменении входной переменной x на единицу.\n",
        "lr = 0.0001  #Шаг в направлении градиента(Коэффициент скорости обучения)\n",
        "iterations = 100\n",
        "n = len(x)\n",
        "\n",
        "\n",
        "for i in range(iterations): #Поиск наименьшого значения методом градиентного спуска\n",
        "    y_model = b0 + b1 * x\n",
        "    loss = 1 / n * (sum((y - y_model) ** 2)) #Среднеквадратичная функция потерь(отклонение)\n",
        "    #Считаем градиент\n",
        "    db0 = (-2 * sum(x * (y - y_model))) / n  #Прозводная по b0\n",
        "    db1 = (-2 * sum(y - y_model)) / n  #Производная по b1\n",
        "\n",
        "    b0 = b0 - lr * db1  # Новое значение b0\n",
        "    b1 = b1 - lr * db0  #Новое значение b1\n",
        "Lr = b0 + b1 * x\n",
        "def r():\n",
        "    xy = 0\n",
        "    x = 0\n",
        "    y = 0\n",
        "    x2 = 0\n",
        "    y2 = 0\n",
        "    n = len(data)\n",
        "    for strng in data:\n",
        "        xy += (strng[0] * strng[1])\n",
        "        x += strng[0]\n",
        "        y += strng[1]\n",
        "        x2 += strng[0] ** 2\n",
        "        y2 += strng[1] ** 2\n",
        "    return (xy - (x * y) / n) / (math.sqrt(x2 - x ** 2 / n) * math.sqrt(y2 - y ** 2 / n))\n",
        "\n",
        "def function(x, pb0, pb1):\n",
        "    return round(eval(str(pb0) + '+' + str(pb1) + '*x'), 1)\n",
        "\n",
        "\n",
        "plt.scatter(x, y, color ='rosybrown') #Вывод точек\n",
        "plt.plot([min(x), max(x)], [min(Lr), max(Lr)], color='skyblue') #Вывод линейной регрессии\n",
        "\n",
        "\n",
        "y_h = []\n",
        "\n",
        "ymid = sum(list(map(list, zip(*data)))[1]) / len(data)\n",
        "xmid = sum(list(map(list, zip(*data)))[0]) / len(data)\n",
        "for string in data:\n",
        "    y_h.append(function(string[0], b0, b1))\n",
        "\n",
        "q = 0\n",
        "qr = 0\n",
        "qe = 0\n",
        "for i in range(len(data)):\n",
        "    q += (data[i][1] - ymid) ** 2  # Квадратичная сумма\n",
        "    qr += (y_h[i] - ymid) ** 2  # Регрессионная сумма\n",
        "    qe += (data[i][1] - y_h[i]) ** 2  # Ошибочная сумма\n",
        "r2 = round(qr / q, 4)  # Коэфициент детерминации\n",
        "r = round(r(), 4)  # Коэффициент корреляции\n",
        "tab = copy.deepcopy(data)\n",
        "tab.append([])\n",
        "for i in range(len(tab)-1):\n",
        "    tab[i].append(ymid)\n",
        "    tab[i].append(tab[i][1] - ymid)\n",
        "    tab[i].append((tab[i][1] - ymid) ** 2)\n",
        "    tab[i].append(y_h[i])\n",
        "    tab[i].append(tab[i][1] - y_h[i])\n",
        "    tab[i].append((tab[i][1] - y_h[i]) ** 2)\n",
        "    tab[i].insert(0, i + 1)\n",
        "for i in range(len(tab[0])):\n",
        "    tab[-1].append('')\n",
        "\n",
        "e = 0\n",
        "for i in range(len(data)):\n",
        "    e += ((data[i][1] - y_h[i]) ** 2)\n",
        "e = e/len(data) - 2\n",
        "es = math.sqrt(sum(list(map(list, zip(*tab)))[5][:-1]) / (len(data) - 1))\n",
        "print('b0:', b0)\n",
        "print('b1:', b1)\n",
        "print('Среднеквадратичная ошибка:', str(e))\n",
        "print('Стандартная ошибка:', str(round(math.sqrt(e), 1)))\n",
        "print('Среднестатистическая ошибка:', str(round(es, 1)))\n",
        "print('Квадратичная сумма:', str(q))\n",
        "print('Регрессионная сумма:', str(qr))\n",
        "print('Ошибочная сумма:', str(qe))\n",
        "print('Коэффициент детерминации:', str(r2))\n",
        "print('Коэффициент корреляции:', str(r))\n",
        "plt.show()\n"
      ]
    }
  ]
}